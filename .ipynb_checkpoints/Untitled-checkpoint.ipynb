{
 "cells": [
  {
   "cell_type": "markdown",
   "metadata": {},
   "source": [
    "# Convert NMEA files"
   ]
  },
  {
   "cell_type": "code",
   "execution_count": 2,
   "metadata": {},
   "outputs": [],
   "source": [
    "import csv\n",
    "from datetime import datetime\n",
    "import math\n",
    "import numpy as np\n",
    "\n",
    "#Array for storing lat long\n",
    "coord = []\n",
    "\n",
    "# adapt this to your file\n",
    "INPUT_FILENAME = 'files/solution_201807271114.nmea'\n",
    "OUTPUT_FILENAME = 'files/solution_201807271114.csv'\n",
    "\n",
    "# open the input file in read mode\n",
    "with open(INPUT_FILENAME, 'r') as input_file:\n",
    "\n",
    "    # open the output file in write mode\n",
    "    with open(OUTPUT_FILENAME, 'wt') as output_file:\n",
    "\n",
    "        # create a csv reader object from the input file (nmea files are basically csv)\n",
    "        reader = csv.reader(input_file)\n",
    "\n",
    "        # create a csv writer object for the output file\n",
    "        writer = csv.writer(output_file, delimiter=',', lineterminator='\\n')\n",
    "\n",
    "        # write the header line to the csv file\n",
    "        writer.writerow(['date_and_time', 'lat', 'lon', 'speed'])\n",
    "\n",
    "        # iterate over all the rows in the nmea file\n",
    "        loop_counter=0\n",
    "        for row in reader:\n",
    "\n",
    "            # skip all lines that do not start with $GPRMC\n",
    "            if not row[0].startswith('$GNRMC'):\n",
    "                continue\n",
    "\n",
    "            else:\n",
    "\n",
    "                # for each row, fetch the values from the row's columns\n",
    "                # columns that are not used contain technical GPS stuff that you are probably not interested in\n",
    "                time = row[1]\n",
    "                warning = row[2]\n",
    "                lat = row[3]\n",
    "                lat_direction = row[4]\n",
    "                lon = row[5]\n",
    "                lon_direction = row[6]\n",
    "                speed = row[7]\n",
    "                date =  row[9]\n",
    "\n",
    "                # if the \"warning\" value is \"V\" (void), you may want to skip it since this is an indicator for an incomplete data row)\n",
    "                if warning == 'V':\n",
    "                    continue\n",
    "\n",
    "                # merge the time and date columns into one Python datetime object (usually more convenient than having both separately)\n",
    "                date_and_time = datetime.strptime(date + ' ' + time, '%d%m%y %H%M%S.%f')\n",
    "\n",
    "                # convert the Python datetime into your preferred string format, see http://www.tutorialspoint.com/python/time_strftime.htm for futher possibilities\n",
    "                date_and_time = date_and_time.strftime('%y-%m-%d %H:%M:%S.%f')[:-3] # [:-3] cuts off the last three characters (trailing zeros from the fractional seconds)\n",
    "\n",
    "                # lat and lon values in the $GPRMC nmea sentences come in an rather uncommon format. for convenience, convert them into the commonly used decimal degree format which most applications can read.\n",
    "                # the \"high level\" formula for conversion is: DDMM.MMMMM => DD + (YY.ZZZZ / 60), multiplicated with (-1) if direction is either South or West\n",
    "                # the following reflects this formula in mathematical terms.\n",
    "                # lat and lon have to be converted from string to float in order to do calculations with them.\n",
    "                # you probably want the values rounded to 6 digits after the point for better readability.\n",
    "                lat = round(math.floor(float(lat) / 100) + (float(lat) % 100) / 60, 12)\n",
    "                if lat_direction == 'S':\n",
    "                    lat = lat * -1\n",
    "\n",
    "                lon = round(math.floor(float(lon) / 100) + (float(lon) % 100) / 60, 12)\n",
    "                if lon_direction == 'W':\n",
    "                    lon = lon * -1\n",
    "\n",
    "                # speed is given in knots, you'll probably rather want it in km/h and rounded to full integer values.\n",
    "                # speed has to be converted from string to float first in order to do calculations with it.\n",
    "                # conversion to int is to get rid of the tailing \".0\".\n",
    "                speed = int(round(float(speed) * 1.852, 0))\n",
    "                \n",
    "                #Append into the list\n",
    "                coord.append([])\n",
    "                coord[loop_counter].append(lat)\n",
    "                coord[loop_counter].append(lon)\n",
    "                loop_counter = loop_counter + 1\n",
    "\n",
    "                # write the calculated/formatted values of the row that we just read into the csv file\n",
    "                writer.writerow([date_and_time, lat, lon, speed])"
   ]
  },
  {
   "cell_type": "code",
   "execution_count": 3,
   "metadata": {},
   "outputs": [],
   "source": [
    "pts_nmea = np.array(coord)"
   ]
  },
  {
   "cell_type": "markdown",
   "metadata": {},
   "source": [
    "# Read coordinates from CSV files"
   ]
  },
  {
   "cell_type": "code",
   "execution_count": null,
   "metadata": {},
   "outputs": [],
   "source": [
    "import csv\n",
    "from datetime import datetime\n",
    "import math\n",
    "import numpy as np\n",
    "\n",
    "#Array for storing lat long\n",
    "coord_csv = []\n",
    "\n",
    "# adapt this to your file\n",
    "INPUT_FILENAME = 'files/solution_201807271124.csv'\n",
    "\n",
    "pts_csv = np.loadtxt(open(INPUT_FILENAME, \"rb\"), delimiter=\",\", skiprows=1,usecols=(1,2))"
   ]
  },
  {
   "cell_type": "code",
   "execution_count": 4,
   "metadata": {},
   "outputs": [],
   "source": [
    "#pts = np.append(pts_nmea,pts_csv,axis=0)\n",
    "pts = pts_nmea"
   ]
  },
  {
   "cell_type": "markdown",
   "metadata": {},
   "source": [
    "# Draw Points"
   ]
  },
  {
   "cell_type": "code",
   "execution_count": 6,
   "metadata": {},
   "outputs": [
    {
     "data": {
      "image/png": "[encoded data removed]",
      "text/plain": [
       "<Figure size 432x288 with 1 Axes>"
      ]
     },
     "metadata": {},
     "output_type": "display_data"
    }
   ],
   "source": [
    "import numpy as np\n",
    "from scipy.interpolate import splprep, splev\n",
    "import matplotlib.pyplot as plt\n",
    "\n",
    "# define pts from the question\n",
    "\n",
    "\n",
    "tck, u = splprep(pts.T, u=None, s=0.0, per=1) \n",
    "u_new = np.linspace(u.min(), u.max(), 300)\n",
    "x_new, y_new = splev(u_new, tck, der=0)\n",
    "#test_x,test_y\n",
    "\n",
    "plt.plot(pts[:,0], pts[:,1], 'ro')\n",
    "plt.plot(x_new, y_new, 'b-')\n",
    "plt.show()"
   ]
  },
  {
   "cell_type": "markdown",
   "metadata": {},
   "source": [
    "# Shapely"
   ]
  },
  {
   "cell_type": "code",
   "execution_count": 7,
   "metadata": {
    "scrolled": true
   },
   "outputs": [],
   "source": [
    "import numpy as np\n",
    "from shapely.geometry import MultiPolygon,Polygon, Point\n",
    "import matplotlib.pyplot as plt\n",
    "from shapely.ops import cascaded_union\n",
    "\n",
    "poly1 = Polygon(pts_nmea)\n",
    "#poly2 = Polygon(pts_csv)\n",
    "\n",
    "#multi_poly = MultiPolygon([poly1,poly2])\n",
    "#multi_poly = poly1.convex_hull.difference(poly2.convex_hull)\n",
    "\n",
    "#cu = cascaded_union(myGeomList)\n",
    "\n",
    "minx, miny, maxx, maxy = poly1.bounds\n",
    "multi_poly = poly1\n",
    "#myGeomList\n",
    "#multi_poly\n"
   ]
  },
  {
   "cell_type": "code",
   "execution_count": null,
   "metadata": {},
   "outputs": [],
   "source": [
    "poly1.convex_hull.is_valid"
   ]
  },
  {
   "cell_type": "code",
   "execution_count": null,
   "metadata": {},
   "outputs": [],
   "source": [
    "a = Point(1, 1).buffer(1.5)\n",
    "b = Point(2, 1).buffer(1.5)\n",
    "a.difference(b)\n"
   ]
  },
  {
   "cell_type": "markdown",
   "metadata": {
    "scrolled": true
   },
   "source": [
    "# Parameters"
   ]
  },
  {
   "cell_type": "code",
   "execution_count": 24,
   "metadata": {},
   "outputs": [],
   "source": [
    "#Distance between two points\n",
    "pts_interval = 0.00001"
   ]
  },
  {
   "cell_type": "code",
   "execution_count": 26,
   "metadata": {
    "scrolled": true
   },
   "outputs": [
    {
     "name": "stdout",
     "output_type": "stream",
     "text": [
      "17 25\n"
     ]
    },
    {
     "data": {
      "image/png": "[encoded data removed]",
      "text/plain": [
       "<Figure size 432x288 with 1 Axes>"
      ]
     },
     "metadata": {},
     "output_type": "display_data"
    }
   ],
   "source": [
    "longs = np.arange(minx, maxx, pts_interval)\n",
    "lats = np.arange(miny, maxy, pts_interval)\n",
    "\n",
    "# Number of latitude and longitude points\n",
    "num_longs_points = len(longs)\n",
    "num_lat_points = len(lats)\n",
    "\n",
    "print(num_longs_points,num_lat_points)\n",
    "\n",
    "#Ordering points to follow u shaped navigation\n",
    "\n",
    "#longs = np.tile(longs,25).ravel() #Size of the long array\n",
    "longs = np.tile(np.concatenate([longs,longs[::-1]]),int(num_lat_points/2)).ravel()\n",
    "lats = np.repeat(lats,num_longs_points).ravel() # Size of the lat array in paramter\n",
    "\n",
    "coords = np.array([(x,y) for x,y in zip(longs,lats)])\n",
    "points = [Point(xy) for xy in coords]\n",
    "\n",
    "check = [xy.within(multi_poly) for xy in points]\n",
    "pointsInside = coords[check]\n",
    "#print(pointsInside)\n",
    "ranIdx = np.random.choice(len(pointsInside),5,replace=False)  \n",
    "result = pointsInside[ranIdx]\n",
    "\n",
    "#print (result)\n",
    "\n",
    "\n",
    "plt.plot(pointsInside[:,0],pointsInside[:,1],'b',markersize=2 )\n",
    "plt.plot(pts[:,0], pts[:,1], 'ro')\n",
    "#plt.plot(longs,lats,'bo',markersize=10 )\n",
    "\n",
    "plt.show()"
   ]
  },
  {
   "cell_type": "code",
   "execution_count": null,
   "metadata": {},
   "outputs": [],
   "source": [
    "import geopandas as gpd\n",
    "polygons = gpd.GeoSeries(poly)\n",
    "\n",
    "polygons_hull = polygons.convex_hull\n",
    "\n",
    "polygons_hull.plot()\n",
    "plt.show()"
   ]
  },
  {
   "cell_type": "code",
   "execution_count": null,
   "metadata": {},
   "outputs": [],
   "source": [
    "from shapely.geometry import MultiPolygon, Polygon\n",
    "import matplotlib.pyplot as plt\n",
    "import geopandas as gpd\n",
    "polygons = MultiPolygon([Polygon([(0, 0.5), (0, 2.5), (1, 2.5),(1,0.5)]),Polygon([(0, 0), (1, 1), (2,0),(1,-1)])])\n",
    "\n",
    "polygons = gpd.GeoSeries(polygons)\n",
    "\n",
    "polygons_hull = polygons.convex_hull\n",
    "\n",
    "polygons_hull.plot()\n",
    "plt.show()"
   ]
  },
  {
   "cell_type": "code",
   "execution_count": null,
   "metadata": {},
   "outputs": [],
   "source": [
    "from shapely.geometry import MultiPolygon, Polygon\n",
    "import matplotlib.pyplot as plt\n",
    "import geopandas as gpd\n",
    "polygons = MultiPolygon([Polygon([(0, 0), (1, 1), (2,0),(1,-1)])])\n",
    "\n",
    "polygons = gpd.GeoSeries(polygons)\n",
    "\n",
    "polygons_hull = polygons.convex_hull\n",
    "\n",
    "polygons_hull.plot()\n",
    "plt.show()"
   ]
  },
  {
   "cell_type": "code",
   "execution_count": null,
   "metadata": {},
   "outputs": [],
   "source": []
  }
 ],
 "metadata": {
  "kernelspec": {
   "display_name": "Python 3",
   "language": "python",
   "name": "python3"
  },
  "language_info": {
   "codemirror_mode": {
    "name": "ipython",
    "version": 3
   },
   "file_extension": ".py",
   "mimetype": "text/x-python",
   "name": "python",
   "nbconvert_exporter": "python",
   "pygments_lexer": "ipython3",
   "version": "3.5.5"
  }
 },
 "nbformat": 4,
 "nbformat_minor": 2
}
